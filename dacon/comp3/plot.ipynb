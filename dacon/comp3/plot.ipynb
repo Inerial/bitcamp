{
 "cells": [
  {
   "cell_type": "code",
   "execution_count": 14,
   "metadata": {},
   "outputs": [
    {
     "output_type": "stream",
     "name": "stdout",
     "text": "d:\\Study\\dacon\\comp3\n"
    },
    {
     "output_type": "execute_result",
     "data": {
      "text/plain": "\" x = pd.read_csv('train_features.csv', sep=',', index_col = 0, header = 0)\\ny = pd.read_csv('train_target.csv', sep=',', index_col = 0, header = 0)\\nx_pred = pd.read_csv('test_features.csv', sep=',', index_col = 0, header = 0)\\n\\nprint(x.shape)\\nprint(y.shape)\\nprint(x_pred.shape)\\n\\ntime_step = int(x.shape[0] / y.shape[0])\\ntmp = []\\nfor i in range(int(x.shape[0]/time_step)):\\n    tmp.append(x.iloc[i*time_step : (i+1)*time_step, 1:].values)\\nx_LSTM = np.array(tmp)\\n\\ntmp = []\\nfor i in range(int(x_pred.shape[0]/time_step)):\\n    tmp.append(x_pred.iloc[i*time_step : (i+1)*time_step, 1:].values)\\nx_pred_LSTM = np.array(tmp)\\n\\nprint(x_pred.shape)\\n\\nfor i in range(5):\\n    X1 = x_LSTM[i,:,0]\\n    X1 = np.concatenate([X1,X1,X1,X1,X1])\\n    Y1 = np.fft.fft(X1)\\n    P1 = abs(Y1/(5*375))\\n    P1[2:-1] = 2*P1[2:-1]\\n    rank_X1 = np.argsort(P1[:500])[::-1][ :50]\\n    print(rank_X1)\\n    f = 1000*np.array(range(0,int(5*375)))/(5*375)\\n    plt.subplot(2,1,1)\\n    plt.plot(x_LSTM[i,:,0])\\n    plt.subplot(2,1,2)\\n    plt.plot(f[:500],P1[:500])\\n    plt.show() \""
     },
     "metadata": {},
     "execution_count": 14
    }
   ],
   "source": [
    "import numpy as np\n",
    "import pandas as pd\n",
    "import matplotlib.pyplot as plt\n",
    "from sklearn.preprocessing import StandardScaler, MinMaxScaler, MaxAbsScaler, RobustScaler\n",
    "import os\n",
    "print(os.getcwd())\n",
    "\"\"\" x = pd.read_csv('train_features.csv', sep=',', index_col = 0, header = 0)\n",
    "y = pd.read_csv('train_target.csv', sep=',', index_col = 0, header = 0)\n",
    "x_pred = pd.read_csv('test_features.csv', sep=',', index_col = 0, header = 0)\n",
    "\n",
    "print(x.shape)\n",
    "print(y.shape)\n",
    "print(x_pred.shape)\n",
    "\n",
    "time_step = int(x.shape[0] / y.shape[0])\n",
    "tmp = []\n",
    "for i in range(int(x.shape[0]/time_step)):\n",
    "    tmp.append(x.iloc[i*time_step : (i+1)*time_step, 1:].values)\n",
    "x_LSTM = np.array(tmp)\n",
    "\n",
    "tmp = []\n",
    "for i in range(int(x_pred.shape[0]/time_step)):\n",
    "    tmp.append(x_pred.iloc[i*time_step : (i+1)*time_step, 1:].values)\n",
    "x_pred_LSTM = np.array(tmp)\n",
    "\n",
    "print(x_pred.shape)\n",
    "\n",
    "for i in range(5):\n",
    "    X1 = x_LSTM[i,:,0]\n",
    "    X1 = np.concatenate([X1,X1,X1,X1,X1])\n",
    "    Y1 = np.fft.fft(X1)\n",
    "    P1 = abs(Y1/(5*375))\n",
    "    P1[2:-1] = 2*P1[2:-1]\n",
    "    rank_X1 = np.argsort(P1[:500])[::-1][ :50]\n",
    "    print(rank_X1)\n",
    "    f = 1000*np.array(range(0,int(5*375)))/(5*375)\n",
    "    plt.subplot(2,1,1)\n",
    "    plt.plot(x_LSTM[i,:,0])\n",
    "    plt.subplot(2,1,2)\n",
    "    plt.plot(f[:500],P1[:500])\n",
    "    plt.show() \"\"\""
   ]
  },
  {
   "cell_type": "code",
   "execution_count": null,
   "metadata": {},
   "outputs": [],
   "source": []
  }
 ],
 "metadata": {
  "language_info": {
   "codemirror_mode": {
    "name": "ipython",
    "version": 3
   },
   "file_extension": ".py",
   "mimetype": "text/x-python",
   "name": "python",
   "nbconvert_exporter": "python",
   "pygments_lexer": "ipython3",
   "version": "3.7.6-final"
  },
  "orig_nbformat": 2,
  "kernelspec": {
   "name": "python3",
   "display_name": "Python 3"
  }
 },
 "nbformat": 4,
 "nbformat_minor": 2
}